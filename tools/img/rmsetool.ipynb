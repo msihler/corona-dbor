{
 "cells": [
  {
   "cell_type": "code",
   "execution_count": 7,
   "metadata": {},
   "outputs": [],
   "source": [
    "import sys\n",
    "import matplotlib.pyplot as plt\n",
    "import scipy.stats\n",
    "import math\n",
    "import numpy as np\n",
    "import subprocess"
   ]
  },
  {
   "cell_type": "code",
   "execution_count": 8,
   "metadata": {},
   "outputs": [],
   "source": [
    "# path to the reference pfm, starting from the tools/img/ folder\n",
    "reference=\"../../regression/0010_pt/testrender_16spp_fb00.pfm\"\n",
    "# base path to compared images, cutting off before the xxxspp_fb00.pfm part\n",
    "imgbase=\"../../regression/0010_pt/testrender_\"\n",
    "\n",
    "# plot title\n",
    "title=\"BDPT moll fmo\"\n",
    "# number of compared images, starting at 1spp, up to 2^{steps-1}spp\n",
    "steps=4"
   ]
  },
  {
   "cell_type": "code",
   "execution_count": 9,
   "metadata": {},
   "outputs": [],
   "source": [
    "def get_spp(imgfile):\n",
    "    txt_file = imgfile + \".txt\"\n",
    "    with open(txt_file, \"r\") as f:\n",
    "        lines = f.readlines()\n",
    "        for l in lines:\n",
    "            if \"samples per pixel\" in l:\n",
    "                spp = int(l.split(\"pixel: \")[1].split(\" \")[0])\n",
    "                return spp"
   ]
  },
  {
   "cell_type": "code",
   "execution_count": 10,
   "metadata": {},
   "outputs": [
    {
     "name": "stdout",
     "output_type": "stream",
     "text": [
      "Reference: 16 spp\n",
      "[1, 2, 4, 8]\n"
     ]
    },
    {
     "data": {
      "image/png": "[encoded data removed]",
      "text/plain": [
       "<Figure size 432x288 with 1 Axes>"
      ]
     },
     "metadata": {
      "needs_background": "light"
     },
     "output_type": "display_data"
    }
   ],
   "source": [
    "spp = 1\n",
    "spps = []\n",
    "rmses = []\n",
    "\n",
    "print(\"Reference: \" + str(get_spp(reference)) + \" spp\")\n",
    "\n",
    "for i in range(0,steps):\n",
    "    # compute rmse\n",
    "    image = imgbase + str(spp) + \"spp_fb00.pfm\"\n",
    "    process = subprocess.Popen(\"./pfmdiff \" + reference + \" \" + image, shell=True, stdout=subprocess.PIPE, stderr=subprocess.PIPE)\n",
    "    output, error = lines = process.communicate()\n",
    "    if (len(error) > 0):\n",
    "        print(\"Error:\")\n",
    "        print(error)\n",
    "        break\n",
    "    lines = output.splitlines()\n",
    "    rr = str(lines[0]).split(\"rmse: \")[1][:-3]\n",
    "    rmse = float(rr)\n",
    "    \n",
    "    # append to list\n",
    "    spps.append(spp)\n",
    "    rmses.append(rmse)\n",
    "    spp = spp*2\n",
    "    \n",
    "# plot\n",
    "print(spps)\n",
    "plt.loglog(spps, rmses,\"o\", label=\"rmse\")\n",
    "fake = [50/math.sqrt(float(s)) for s in spps]\n",
    "plt.loglog(spps, fake, label=\"some straight line\")\n",
    "plt.legend()\n",
    "plt.savefig(imgbase+\"rmse.pdf\", bbox_inches=\"tight\")"
   ]
  },
  {
   "cell_type": "code",
   "execution_count": null,
   "metadata": {},
   "outputs": [],
   "source": []
  }
 ],
 "metadata": {
  "kernelspec": {
   "display_name": "Python 3",
   "language": "python",
   "name": "python3"
  },
  "language_info": {
   "codemirror_mode": {
    "name": "ipython",
    "version": 3
   },
   "file_extension": ".py",
   "mimetype": "text/x-python",
   "name": "python",
   "nbconvert_exporter": "python",
   "pygments_lexer": "ipython3",
   "version": "3.8.10"
  }
 },
 "nbformat": 4,
 "nbformat_minor": 2
}
